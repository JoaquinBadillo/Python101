{
 "cells": [
  {
   "cell_type": "markdown",
   "metadata": {},
   "source": [
    "# Tipos de datos"
   ]
  },
  {
   "cell_type": "markdown",
   "metadata": {},
   "source": [
    "Estos son algunos de los tipos de datos que vienen incluidos con Python:\n",
    "\n",
    "**De tipo numérico**\n",
    "\n",
    "`int` (Número entero)\n",
    "\n",
    "`float` (Número de punto flotante)\n",
    "\n",
    "`complex` (Número complejo)\n",
    "\n",
    "**De tipo texto**\n",
    "\n",
    "`str` (String - hilo de caracteres)\n",
    "\n",
    "**De tipo arreglo**\n",
    "\n",
    "`range` (Secuencia de números que no puedes alterar)\n",
    "\n",
    "`list` (Arreglo de números ordenado que puede ser alterado)\n",
    "\n",
    "`tuple` (Arreglo de números ordenado que no puede ser alterado)\n",
    "\n",
    "**De tipo conjunto**\n",
    "\n",
    "`set` (Arreglo de números no ordenado)\n",
    "\n",
    "**De tipo mapa**\n",
    "\n",
    "`dict` (Asocia `values` a `keys`)\n",
    "\n",
    "**De tipo booleano**\n",
    "\n",
    "`bool` (Valor de lógica binaria)"
   ]
  },
  {
   "cell_type": "markdown",
   "metadata": {},
   "source": [
    "## ¿Cómo \"ver\" los tipos de datos?"
   ]
  },
  {
   "cell_type": "markdown",
   "metadata": {},
   "source": [
    "La función `type()` nos permite ver los tipos de datos."
   ]
  },
  {
   "cell_type": "code",
   "execution_count": 1,
   "metadata": {},
   "outputs": [
    {
     "data": {
      "text/plain": [
       "int"
      ]
     },
     "execution_count": 1,
     "metadata": {},
     "output_type": "execute_result"
    }
   ],
   "source": [
    "type(5)"
   ]
  },
  {
   "cell_type": "markdown",
   "metadata": {},
   "source": [
    "## Por qué definimos tipos de datos"
   ]
  },
  {
   "cell_type": "markdown",
   "metadata": {},
   "source": [
    "Una de las principales razones por las que distinguimos los tipos de datos es que lo que nos interesa conseguir con un programa es manipular estos datos para generar algún tipo de resultado. De forma muy fundamental, un algoritmo no es nada más que una función que toma argumentos y da un _output_. Entonces, considerando este propósito, definimos tipos de datos para distinguir las cosas que podemos hacer con estos.\n",
    "\n",
    "### Por ejemplo:\n",
    "\n",
    "Con datos de tipo `int` se pueden hacer operaciones aritméticas.\n",
    "\n",
    "Con datos de tipo `string` se puede concatenar, capitalizar, contar el número de caracteres...\n",
    "\n",
    "Con datos de tipo `bool` se pueden hacer operaciones lógicas (álgebra booleana).\n",
    "\n",
    "Supongo que entienden la idea..."
   ]
  },
  {
   "cell_type": "markdown",
   "metadata": {},
   "source": [
    "## Nota adicional (por si te interesa):\n",
    "\n",
    "Python es un _lenguaje orientado a objetos_, de momento no me voy a meter muy a profundidad en qué es un objeto, una clase, método... Simplemente añado este tipo apéndice para mencionar que todos los tipos de datos en Python se distinguen con algo que llamamos _clases_ esto nos permite definir las formas de manipular los datos. Estas formas de manipular los datos se llaman _métodos_. Finalmente, cada que utilizas algún tipo de dato, esté tendrá el tipo de dato usual (int, str, dict,...) pero también será algo que llamamos un _objeto_ ya que pertence a una clase. Puedes verificar esto usando la función `isinstance()` como se muestra a continuación:"
   ]
  },
  {
   "cell_type": "markdown",
   "metadata": {},
   "source": [
    "`isinstance(dato, str)`     Debe regresar verdadero (`True`) si el dato es un `str`\n",
    "\n",
    "`isinstance(dato, object)`  Debe regresar verdadero (`True`) si el dato es un `object`\n",
    "\n",
    "Como el valor que regresa la función es booleano podemos utilizar un poco de álgebra booleana...\n",
    "\n",
    "Para dos booleanos `x`, `y`, definimos la operación `and` de tal forma que `x and y` es verdadero si ambos son verdaderos, de lo contrario es falso. "
   ]
  },
  {
   "cell_type": "code",
   "execution_count": 2,
   "metadata": {},
   "outputs": [
    {
     "data": {
      "text/plain": [
       "True"
      ]
     },
     "execution_count": 2,
     "metadata": {},
     "output_type": "execute_result"
    }
   ],
   "source": [
    "isinstance(\"Esto es un string\", str) and isinstance(\"Esto es un string\", object)"
   ]
  },
  {
   "cell_type": "markdown",
   "metadata": {},
   "source": [
    "# Funciones"
   ]
  },
  {
   "cell_type": "markdown",
   "metadata": {},
   "source": [
    "Python trae consigo un conjunto de funciones predefinidas. Una función es algo que toma argumentos y regresa un _output_. De hecho anteriormente usamos funciones como `type()` e `isinstance()`.\n",
    "\n",
    "En realidad, pudimos ver en la pantalla el valor que estas funciones regresan ya que estamos usando algo llamado un _Jupyter Interactive Notebook_ pero en realidad solo podríamos ver que es lo que hace Python usando una terminal y una función específica."
   ]
  },
  {
   "cell_type": "markdown",
   "metadata": {},
   "source": [
    "## Qué es una terminal"
   ]
  },
  {
   "cell_type": "markdown",
   "metadata": {},
   "source": [
    "En términos simples, una terminal es un dispositivo que te permite interactuar con una computadora. Muchos de ustedes se sorprenderan al ver lo simple que es una terminal, pues estamos acostumbrados a ver íconos, imágenes, archivos, etc. en nuestra computadora y podemos interactuar con todos estos; pero en una terminal solo tenemos ¿texto?\n",
    "\n",
    "Bueno, practicamente todo lo que ven en sus computadoras es algo llamado una Interfaz Gráfica de Usario (GUI por sus siglas en inglés). Una GUI es algo muy sofisticado y todo lo que ves en tu computadora se debe a la programación que se aventaron en una empresa para que puedas hacer lo que conoces en una computadora. Una terminal es una forma muy fundamental de interactuar con la computadora.\n",
    "\n",
    "La razón por la que la terminal es importante es que cuando creamos un archivo de Python queremos, por decirlo de alguna manera, interactuar con la computadora en un nivel muy fundamental para que esta reciba el código en algo que entienda (literal solo 0's y 1's) y que después realice el algoritmo que le dimos. Para que esto ocurra, es necesario \"instalar\" Python, porque este trae consigo algo llamado un _interpretador_. El interpretador de Python básicamente va transformar lo que escribiste en un lenguaje de alto nivel (Python),va a pasar cada línea a lenguaje de máquina que resuma todo lo que escribiste en una combinación específica de 0's y 1's y lo ejecuta. Por esta razón debemos escribir el código siguiendo tantas reglas.\n",
    "\n",
    "Para usar el interpretador de python, primero debemos tenerlo instalado, después en nuestra terminal debemos ubicarnos en el directorio con el archivo que hicimos (piensa en esto como si estuvieras en el \"folder\" en el que se ubica en tu explorador de archivos) y finalmente debemos escribir:\n",
    "\n",
    "`python nombre.py`\n",
    "\n",
    "Solo que no vas a escribir \"nombre.py\" _literalmente_, sino que vas a reemplazar nombre por el nombre de tu archivo. \n",
    "\n",
    "Básicamente es como decir: Python quiero que interpretes el archivo `nombre.py`."
   ]
  },
  {
   "cell_type": "markdown",
   "metadata": {},
   "source": [
    "## Ver resultados en tu terminal"
   ]
  },
  {
   "cell_type": "markdown",
   "metadata": {},
   "source": [
    "Usualmente cuando realizas un programa quieres ver resultados por decirlo de alguna manera. Algo que se muestre por pantalla. Para lograr esto vamos a usar la función `print()`.\n",
    "\n",
    "Esta función puede tomar muchos argumentos, pero en realidad solo es necesario uno: lo que quieres mostrar por pantalla. En CS hay un programa que verás cada que aprendas un lenguaje de programación, este programa consiste en mostrar por pantalla un saludo al mundo en inglés. Es decir quieres que la computadora _responda_ diciendo `Hello world!`. Veamos como escribir este programa en Python."
   ]
  },
  {
   "cell_type": "code",
   "execution_count": 3,
   "metadata": {},
   "outputs": [
    {
     "name": "stdout",
     "output_type": "stream",
     "text": [
      "Hello world!\n"
     ]
    }
   ],
   "source": [
    "print(\"Hello world!\")"
   ]
  },
  {
   "cell_type": "markdown",
   "metadata": {},
   "source": [
    "Básicamente le estamos diciendo a la computadora toma el string \"Hello world!\" y ponlo en la función `print()` para mostrarlo en pantalla."
   ]
  },
  {
   "cell_type": "markdown",
   "metadata": {},
   "source": [
    "Print puede mostrar por pantalla cualquier tipo de dato que se nos ocurra, aunque los datos más estructurados suelen verse medio \"feos\" ya que no tenemos una interfaz gráfica en la terminal. Podemos ver unos ejemplos rápidos:"
   ]
  },
  {
   "cell_type": "markdown",
   "metadata": {},
   "source": [
    "Mostrar enteros:"
   ]
  },
  {
   "cell_type": "code",
   "execution_count": 4,
   "metadata": {},
   "outputs": [
    {
     "name": "stdout",
     "output_type": "stream",
     "text": [
      "3\n"
     ]
    }
   ],
   "source": [
    "print(3)"
   ]
  },
  {
   "cell_type": "markdown",
   "metadata": {},
   "source": [
    "Mostrar números de punto flotante:"
   ]
  },
  {
   "cell_type": "code",
   "execution_count": 5,
   "metadata": {},
   "outputs": [
    {
     "name": "stdout",
     "output_type": "stream",
     "text": [
      "10.4\n"
     ]
    }
   ],
   "source": [
    "print(10.4)"
   ]
  },
  {
   "cell_type": "markdown",
   "metadata": {},
   "source": [
    "Mostrar booleanos:"
   ]
  },
  {
   "cell_type": "code",
   "execution_count": 6,
   "metadata": {},
   "outputs": [
    {
     "name": "stdout",
     "output_type": "stream",
     "text": [
      "True\n"
     ]
    }
   ],
   "source": [
    "print(True)"
   ]
  },
  {
   "cell_type": "markdown",
   "metadata": {},
   "source": [
    "Por como estamos usando la función en estos momentos, parecería que los siguientes códigos hacen lo mismo:"
   ]
  },
  {
   "cell_type": "code",
   "execution_count": 7,
   "metadata": {},
   "outputs": [
    {
     "name": "stdout",
     "output_type": "stream",
     "text": [
      "4\n",
      "4\n"
     ]
    }
   ],
   "source": [
    "print(4)\n",
    "print(\"4\")"
   ]
  },
  {
   "cell_type": "code",
   "execution_count": 8,
   "metadata": {},
   "outputs": [
    {
     "name": "stdout",
     "output_type": "stream",
     "text": [
      "5.7\n",
      "5.7\n"
     ]
    }
   ],
   "source": [
    "print(5.7)\n",
    "print(\"5.7\")"
   ]
  },
  {
   "cell_type": "code",
   "execution_count": 9,
   "metadata": {},
   "outputs": [
    {
     "name": "stdout",
     "output_type": "stream",
     "text": [
      "True\n",
      "True\n"
     ]
    }
   ],
   "source": [
    "print(True)\n",
    "print(\"True\")"
   ]
  },
  {
   "cell_type": "markdown",
   "metadata": {},
   "source": [
    "Pero en realidad NO, en un nivel muy fundamental la computadora esta haciendo cosas distintas aunque veamos aparentemente lo mismo en pantalla. La computadora tiene una forma de distinguir los tipos de datos y dentro de la función print podemos manipularlos. En este caso veremos que es muy diferente utilizar un string a un tipo de dato que escribimos simbólicamente de la misma manera, ve los siguientes programas:"
   ]
  },
  {
   "cell_type": "code",
   "execution_count": 10,
   "metadata": {},
   "outputs": [
    {
     "name": "stdout",
     "output_type": "stream",
     "text": [
      "9\n"
     ]
    }
   ],
   "source": [
    "print(4+5)"
   ]
  },
  {
   "cell_type": "code",
   "execution_count": 11,
   "metadata": {},
   "outputs": [
    {
     "name": "stdout",
     "output_type": "stream",
     "text": [
      "45\n"
     ]
    }
   ],
   "source": [
    "print(\"4\" + \"5\")"
   ]
  },
  {
   "cell_type": "markdown",
   "metadata": {},
   "source": [
    "Como veras ¡es muy distinto utilizar strings a números por como hemos definido las formas de manipularlos!"
   ]
  },
  {
   "cell_type": "markdown",
   "metadata": {},
   "source": [
    "# Variables"
   ]
  },
  {
   "cell_type": "markdown",
   "metadata": {},
   "source": [
    "Las variables son quizá una de las ideas más fundamentales y poderosas en la programación. Básicamente una variable es una forma de darle un nombre simbólico a algún tipo de información, esto con el propósito de referirnos a esa información con el nombre de la variable. Además, son _variables_ ya que la información que contiene puede _variar_. \n",
    "\n",
    "Por ejemplo, definamos una variable $x$ cuyo valor es 5.\n",
    "\n",
    "Si ahora yo te pregunto ¿cuál es el valor de $x$? Con facilidad me puedes responder 5.\n",
    "\n",
    "Después te digo, quiero que $x$ ahora valga 10.\n",
    "\n",
    "Si ahora te pregunto ¿cuánto vale $x$? Esperaría que tu respuesta sea 10."
   ]
  },
  {
   "cell_type": "markdown",
   "metadata": {},
   "source": [
    "Una computadora es capaz de hacer esto ya que tienen _memoria_. Cuando yo defino una variable y su valor, la computadora hace un espacio en su memoria reservado para esta variable y establece su valor. Cuando cambio el valor de la variable, la computadora busca el espacio que le designó a la variable y remplaza el valor anterior por el nuevo."
   ]
  },
  {
   "cell_type": "markdown",
   "metadata": {},
   "source": [
    "## Asignar variables"
   ]
  },
  {
   "cell_type": "markdown",
   "metadata": {},
   "source": [
    "La primera pregunta que puede llegar a tu cabeza es ¿cómo se hace esto en Python?\n",
    "\n",
    "En realidad es muy sencillo, utilizamos el signo \"=\". En Python (y muchos lenguajes de programación) este signo es un _operador_ de asignación y funciona de una manera peculiar. Básicamente al usarlo es como decirle a la compu: realiza lo que haya a la derecha del signo y copia su valor en lo que hay a la izquierda.\n",
    "\n",
    "Ejemplo:\n",
    "\n",
    "Quiero definir una variable llamada `numero` cuyo valor sea 2. Es decir que cada que yo escriba `numero` quiero que la computadora utilice el entero 2."
   ]
  },
  {
   "cell_type": "code",
   "execution_count": 12,
   "metadata": {},
   "outputs": [],
   "source": [
    "numero = 2"
   ]
  },
  {
   "cell_type": "code",
   "execution_count": 13,
   "metadata": {},
   "outputs": [
    {
     "name": "stdout",
     "output_type": "stream",
     "text": [
      "2\n"
     ]
    }
   ],
   "source": [
    "print(numero)"
   ]
  },
  {
   "cell_type": "markdown",
   "metadata": {},
   "source": [
    "# Operadores Numéricos (Aritmética)"
   ]
  },
  {
   "cell_type": "markdown",
   "metadata": {},
   "source": [
    "Como he mencionado en múltilpes ocasiones, hay un conjunto de operaciones que podemos hacer con cada tipo de dato. Veamos los que podemos utilizar con datos de tipo numérico (`int`, `float`, `complex`):"
   ]
  },
  {
   "cell_type": "markdown",
   "metadata": {},
   "source": [
    "| Operación       | Símbolo | Ejemplo      |\n",
    "| --------------- | ------- | -------------|\n",
    "| Suma            |    +    |  2 + 3 = 5   |\n",
    "| Resta           |    -    |  5 - 3 = 2   |\n",
    "| Multiplicación  |    *    |  3 * 2 = 6   |\n",
    "| División        |    /    |  9 / 2 = 4.5 |\n",
    "| División entera |    //   |  9 // 2 = 4  |\n",
    "| Módulo (residuo)|    %    |  9 % 2 = 1   |\n",
    "| Exponenciación  |    **   |  1j ** 2 = -1|"
   ]
  },
  {
   "cell_type": "markdown",
   "metadata": {},
   "source": [
    "# Operadores y métodos de String"
   ]
  },
  {
   "cell_type": "markdown",
   "metadata": {},
   "source": [
    "En muchas ocasiones queremos mostrar por pantalla un mismo string de texto pero alterar una parte específica de este. Por ejemplo, los programas que te dan una bienvenida con tu nombre tienen un mismo formato pero alteran una parte del texto para que sea tu nombre. Por este motivo nos interesa una operación llamada concatenación. La concatenación toma dos strings y los junta en uno solo. Esta operación se indica con el signo +, y como Python distingue los tipos de datos sabe que si le das números realiza aritmética y si le das strings concatena.\n",
    "\n",
    "Por ejemplo:\n",
    "\n",
    "`\"Hola\" + \"mundo\" = \"Holamundo\"`\n",
    "\n",
    "`\"Hola \" + \"mundo\" = \"Hola mundo\"`"
   ]
  },
  {
   "cell_type": "markdown",
   "metadata": {},
   "source": [
    "Como distinguimos entre tipos de datos no puedes concatenar números y strings, pero hay algo que podemos hacer si queremos hacer aritmética y después mostrar un string que contenga el resultado."
   ]
  },
  {
   "cell_type": "markdown",
   "metadata": {},
   "source": [
    "## Casting"
   ]
  },
  {
   "cell_type": "markdown",
   "metadata": {},
   "source": [
    "Python distingue los tipos de datos por su cuenta, pero en muchas ocasiones vamos a querer especificar el tipo de dato nosotros o incluso transformarlo. Esto se llama _casting_. Hay una función para cambiar a cada tipo de dato, pero siempre tienen el mismo formato:\n",
    "\n",
    "`TipoDeDato()`\n",
    "\n",
    "Por ejemplo si quiero cambiar el número entero 4 al str (string) \"4\":\n",
    "\n",
    "`str(4)`\n",
    "\n",
    "Si quiero cambiar el flotante que resulta de la división 13/4 a int (la parte entera únicamente):\n",
    "\n",
    "`int(13/4)`\n",
    "\n",
    "Supongo que entienden la idea"
   ]
  },
  {
   "cell_type": "markdown",
   "metadata": {},
   "source": [
    "Pensemos en un caso particular en el que esto es relevante...\n",
    "\n",
    "Tienes una tienda de galletas y quieres hacer un programa que calcule lo que debe pagar un cliente. A este programa le tienes que introducir la cantidad de galletas que compro y lo que hace es multiplicar ese número por el precio unitario de la galleta. Finalmente quieres mostrarle al cliente el precio y por lo tanto quieres que aparezca en pantalla: `Total: $` seguido por el precio que debe pagar."
   ]
  },
  {
   "cell_type": "markdown",
   "metadata": {},
   "source": [
    "Primero queremos crear la variable que contenga la cantidad de galletas compradas, podemos llamarla `cantidad`. Para que tú le puedas decir el valor que quieres usar al correr el programa vamos a usar la función `input()`. Como argumento puedes pasarle un string que el programa mostrará por pantalla y después el programa esperará a que escribas algo, esto que escribas será el valor de input. Por ejemplo podemos escribir lo siguiente:\n",
    "\n",
    "`cantidad = input(\"¿Cuántas galletas compraron?\")`"
   ]
  },
  {
   "cell_type": "markdown",
   "metadata": {},
   "source": [
    "Pero input es traicionero la primera vez que lo usas, como esta tomando lo que escribe el usuario siempre considera su valor como si tuviera el tipo de dato string. Pero cantidad no es un string! En nuestro caso es un entero, un número de galletas (en nuestra tienda no se venden medias galletas ni cuartos de galleta ni nada de eso ... solo galletas enteras). Entonces vamos a usar casting, vamos a poner el resultado de input en la función `int()` para que lo convierta en entero.\n",
    "\n",
    "`cantidad = int(input(\"¿Cuántas galletas compraron?\"))`"
   ]
  },
  {
   "cell_type": "markdown",
   "metadata": {},
   "source": [
    "Ahora podemos manipular `cantidad` como un número entero, entonces vamos a multiplicarlo por el precio unitario de las galletas. En este ejemplo digamos que las galletas (todas las que vendemos) valen $5.00 cada una. Entonces podemos saber el total a pagar si se multiplica la cantidad de galletas (la variable `cantidad`) por su precio unitario. Incluso podemos guardar este resultado en una variable llamada `total`.\n",
    "\n",
    "`total = 5.00*cantidad`"
   ]
  },
  {
   "cell_type": "markdown",
   "metadata": {},
   "source": [
    "Finalmente queremos mostrar por pantalla el total en un formato bonito que primero diga \"Total: \\$\" y después el total a pagar, entonces tenemos que usar la función `print()` y concatenar. Pero nuestra varaible total es de tipo numérico y en Python no puedo concatenar estos dos valores. Tenemos que usar casting de nuevo y vamos a concatenar `\"Total: $\" + str(total)`. Ahora podemos mostrar el string resultante en pantalla si pasamos el resultado por la función `print()`:\n",
    "\n",
    "`print(\"Total: $\" + str(total))`"
   ]
  },
  {
   "cell_type": "code",
   "execution_count": 20,
   "metadata": {},
   "outputs": [
    {
     "name": "stdout",
     "output_type": "stream",
     "text": [
      "Total: $30.0\n"
     ]
    }
   ],
   "source": [
    "cantidad = int(input(\"¿Cuántas galletas compraron? \"))\n",
    "\n",
    "total = 5.00 * cantidad\n",
    "\n",
    "print(\"Total: $\" + str(total))"
   ]
  },
  {
   "cell_type": "markdown",
   "metadata": {},
   "source": [
    "Este ejemplo muestra como se utilizan todos esos conceptos abstractos para conseguir que un programa haga una tarea repetitiva por nosotrxs. Pero puedes notar que la concatenación da un poco de flojera, tengo que separar la palabra y transformar todo lo que quiero concatenar a strings... Piensa en un programa que tiene que concatenar algo en medio del texto, en nuestro ejemplo anterior quizá sea relevante especificar el tipo de cambio como MXN al final y tendríamos que escribir:\n",
    "\n",
    "`print(\"Total: $\" + str(total) + \" MXN\")`"
   ]
  },
  {
   "cell_type": "markdown",
   "metadata": {},
   "source": [
    "Honestamente creo que se vuelve complicado leer el programa con tantos signos de +. Algo que les puedo decir es que cuando programan solo escriben líneas de código una vez y lo leen muchas veces cuando expanden la funcionalidad de un programa, entonces es importante que sea entendible lo que escribimos (por eso le damos nombres significativos a las variables y usamos algo llamado comentarios). En este caso hay una forma de concatenar que a mí me gusta mucho, consiste en usar algo llamado f-string. Básicamente lo que vamos a hacer es poner una f antes del string y en curly brackets \"{}\" vamos a colocar todo lo que queremos concatenar. Por ejemplo:"
   ]
  },
  {
   "cell_type": "code",
   "execution_count": 21,
   "metadata": {},
   "outputs": [
    {
     "name": "stdout",
     "output_type": "stream",
     "text": [
      "Total: $30.0 MXN\n"
     ]
    }
   ],
   "source": [
    "print(f\"Total: ${total} MXN\")"
   ]
  },
  {
   "cell_type": "markdown",
   "metadata": {},
   "source": [
    "Usar f-strings es eficiente porque tienes que typear poco y es muy fácil de leer (especialmente en un editor de texto como VS Code que resalta las llaves \"{}\"). Python sabe interpretar eso para realizar todo lo que sea necesario en los corchetes, convertirlo a string y formatear el texto con la estructura que le dimos. Aunque evidentemente viene con algunas desventajas, como no poder esribir los símbolos \"{\" ni \"}\". Esto va a ocurrir en muchas ocasiones y hay formas de solucionarlo. En genral estos problemas se pueden resolver con algo llamado caracter de escape o con el uso del f-string en una forma ingeniosa. Los caracteres de escape no son muy relevantes ahorita, pero será necesario conocerlos y utilizarlos después. A continuación se muestra como se pueden colocar llaves usando f-strings:"
   ]
  },
  {
   "cell_type": "code",
   "execution_count": 29,
   "metadata": {},
   "outputs": [
    {
     "name": "stdout",
     "output_type": "stream",
     "text": [
      "{Texto usando llaves}\n",
      "Una llave solita {\n",
      "Otra llave solita }\n"
     ]
    }
   ],
   "source": [
    "print(f\"{{Texto usando llaves}}\")\n",
    "print(f\"Una llave solita {{\")\n",
    "print(f\"Otra llave solita }}\")"
   ]
  },
  {
   "cell_type": "markdown",
   "metadata": {},
   "source": [
    "Con los strings podemos hacer muchas más cosas. A diferencia de las operaciones que utilizan dos tipos de datos, podemos usar algo llamado un _método_. Esto tendrá sentido cuando aprendan acerca de _lenguajes de programación orientados a objetos_ de forma un poco más teórica y quizá con un lenguaje de programación en el que debas ser más explícito como C++. Pero básicamente recuerden que en Python los tipos de datos tienen métodos, que te permiten realizar acciones."
   ]
  },
  {
   "cell_type": "markdown",
   "metadata": {},
   "source": [
    "Los métodos se indican con un punto seguido del nombre del método y unos paréntesis. Dentro de los paréntesis a veces es necesario colocar uno o más argumentos. Veamos unos ejemplos."
   ]
  },
  {
   "cell_type": "markdown",
   "metadata": {},
   "source": [
    "## Ejemplos de métodos para strings en Python"
   ]
  },
  {
   "cell_type": "markdown",
   "metadata": {},
   "source": [
    "Suele ser útil tener a la mano algo llamado _Cheat Sheet_, donde tienes todos los métodos que vienen con una clase. En este caso podríamos tener un Cheat Sheet de los métodos para strings. En Python hay muchísimos métodos y en la documentación de Python (un documento que explica todo lo que Python puede hacer) se pueden encontrar estos métodos. Pero a continuación les mostraré unos cuantos:"
   ]
  },
  {
   "cell_type": "markdown",
   "metadata": {},
   "source": [
    "`capitalize()` - Convierte el primer caracter en mayúscula.\n",
    "\n",
    "`lower()` - Convierte todos los caracteres en minúsculas.\n",
    "\n",
    "`upper()` - Convierte todos los caracteres en mayúsculas.\n",
    "\n",
    "`title()` - Convierte la primera letra de cada palabra en mayúscula.\n",
    "\n",
    "`find()` - Busca un valor en el string y te regresa su posición (las posiciones empiezan en 0).\n",
    "\n",
    "`replace()` - Busca un caracter o un conjunto de caracteres en el string y los remplaza. Devuelve el string alterado.\n",
    "\n",
    "\n",
    "Hay muchos más métodos pero en mi opinión sería abrumante verlos todos seguidos. Lo mejor es verlos en la práctica y cada vez que encuentres uno nuevo que sea relevante para un programa aplicarlo."
   ]
  },
  {
   "cell_type": "markdown",
   "metadata": {},
   "source": [
    "Ahora, quiero que noten algo en los últimos dos métodos que escribí: estos requieren que le demos más información a Python para cumplir su tarea. Python no sabe mágicamente ¿qué queremos buscar? ¿qué queremos reemplazar? ni ¿con qué lo queremos reemplazar?\n",
    "\n",
    "Esta información adicional se coloca en los paréntesis. Ve el siguiente ejemplo:"
   ]
  },
  {
   "cell_type": "code",
   "execution_count": 31,
   "metadata": {},
   "outputs": [
    {
     "name": "stdout",
     "output_type": "stream",
     "text": [
      "Hola\n"
     ]
    }
   ],
   "source": [
    "print(\"Holw\".replace(\"w\",\"a\"))"
   ]
  },
  {
   "cell_type": "markdown",
   "metadata": {},
   "source": [
    "El primer argumento de replace es el valor a reemplzar y el segundo es con que lo quieres reemplazar."
   ]
  },
  {
   "cell_type": "markdown",
   "metadata": {},
   "source": [
    "Hay muchos métodos que Python trae consigo aunque muchas veces, si no conoces un método puedes hacer lo mismo programando con métodos conocidos. Sin embargo, conocer más métodos es una gran ventaja al resolver problemas aplicando el _pensamiento computacional_."
   ]
  },
  {
   "cell_type": "markdown",
   "metadata": {},
   "source": [
    "Podríamos ir clase por clase enlistando métodos y explicandolos pero honestamente no creo que este sea el camino más óptimo para aprender. Volveremos a ver cosas un poco más abstractas y observaremos como utilizarlas en Python."
   ]
  },
  {
   "cell_type": "markdown",
   "metadata": {},
   "source": [
    "# Progrmación modular (Crear funciones)"
   ]
  },
  {
   "cell_type": "markdown",
   "metadata": {},
   "source": []
  }
 ],
 "metadata": {
  "interpreter": {
   "hash": "93704b3037b6b4a19dcd63d3811c2b6e8f86164b60500462590115f514cf8318"
  },
  "kernelspec": {
   "display_name": "Python 3.7.9 64-bit",
   "name": "python3"
  },
  "language_info": {
   "codemirror_mode": {
    "name": "ipython",
    "version": 3
   },
   "file_extension": ".py",
   "mimetype": "text/x-python",
   "name": "python",
   "nbconvert_exporter": "python",
   "pygments_lexer": "ipython3",
   "version": "3.7.9"
  },
  "orig_nbformat": 4
 },
 "nbformat": 4,
 "nbformat_minor": 2
}
